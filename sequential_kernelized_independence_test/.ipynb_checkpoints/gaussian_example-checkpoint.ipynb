{
 "cells": [
  {
   "cell_type": "code",
   "execution_count": 1,
   "metadata": {},
   "outputs": [],
   "source": [
    "# import modules and functions\n",
    "\n",
    "import numpy as np, pandas as pd, feather as ft, os\n",
    "from utils.testing import SeqIndTester, compute_hyperparam"
   ]
  },
  {
   "cell_type": "code",
   "execution_count": 2,
   "metadata": {},
   "outputs": [],
   "source": [
    "# sequential kernelized independence test for our examples\n",
    "\n",
    "def seq_kern_independence(X: np.ndarray,\n",
    "                          Y: np.ndarray,\n",
    "                          lmbd_type: str,\n",
    "                          n0: int):\n",
    "    \"\"\"\n",
    "    Runs the sequential kernelized independence test and returns the test martingale.\n",
    "    \n",
    "    Parameters\n",
    "    ----------\n",
    "    X: array_like\n",
    "        the X observations\n",
    "    Y: array_like\n",
    "        the Y observations\n",
    "    lmbd_type: either 'ONS' or 'aGRAPA'\n",
    "        method for choosing betting fraction\n",
    "    n0: integer\n",
    "        initial sample size for choosing kernel bandwidth with median heuristic,\n",
    "        with default values 1 for both X and Y if n0 == 1\n",
    "        \n",
    "    Details\n",
    "    -------\n",
    "    Parameters are fixed to their default values in SeqIndTester, apart from the following.\n",
    "    \n",
    "    truncation_level:\n",
    "        0.5 for lmbd_type = 'ONS', 0.9 for lmbd_type = 'aGRAPA'\n",
    "    kernel_param_x:\n",
    "        output from median heuristic on first n0 samples\n",
    "    kernel_param_y:\n",
    "        output from median heuristic on first n0 samples\n",
    "\n",
    "    The test martingale for the first n0 observations is set to 1.compute_hyperparam(x).\n",
    "    \n",
    "    In the function SeqIndTester we deleted\n",
    "        line 193 self.wf.weighted_wf = self.weighted_wf)\n",
    "    which causes an error when running the function.\n",
    "    \n",
    "    Returns\n",
    "    -------\n",
    "    test_martingale:np.ndarray\n",
    "        the test martingale\n",
    "                        \n",
    "    \n",
    "    \"\"\"\n",
    "    # container for test martingale\n",
    "    n = X.size\n",
    "    test_martingale = np.ones(n)\n",
    "    \n",
    "    # specificatinos of the tester\n",
    "    tester = SeqIndTester()\n",
    "    tester.lmbd_type = lmbd_type\n",
    "    if lmbd_type == 'ONS':\n",
    "        tester.truncation_level = 0.5\n",
    "    else:\n",
    "        tester.truncation_level = 0.9\n",
    "    if n0 == 1:\n",
    "        kernel_param_x = 1\n",
    "        kernel_param_y = 1\n",
    "    else:\n",
    "        kernel_param_x = compute_hyperparam(X[:n0])\n",
    "        kernel_param_y = compute_hyperparam(Y[:n0])\n",
    "    \n",
    "    # run the test\n",
    "    n_pairs = (n - n0)//2\n",
    "    for cur_pair in range(n0, n0 + 2*n_pairs, 2):\n",
    "        tester.process_pair(X[cur_pair:(cur_pair + 2)], Y[cur_pair:(cur_pair + 2)],\n",
    "                                X[:cur_pair], Y[:cur_pair])\n",
    "        test_martingale[cur_pair] = tester.wealth\n",
    "        test_martingale[cur_pair + 1] = tester.wealth\n",
    "    \n",
    "    # return test martingale\n",
    "    return test_martingale\n",
    "        \n",
    "    \n",
    "    "
   ]
  },
  {
   "cell_type": "code",
   "execution_count": 3,
   "metadata": {},
   "outputs": [],
   "source": [
    "# import the data from feather file\n",
    "\n",
    "task_id = os.getenv('SLURM_ARRAY_TASK_ID')\n",
    "in_path = 'simulation_examples_' + task_id + '.feather'\n",
    "df = pd.read_feather(in_path)"
   ]
  },
  {
   "cell_type": "code",
   "execution_count": 4,
   "metadata": {},
   "outputs": [],
   "source": [
    "# run the test and export the result\n",
    "\n",
    "n0 = 20\n",
    "lmbd_type = 'ONS'\n",
    "\n",
    "sims = df['sim'].unique()\n",
    "nsims = sims.size\n",
    "out = []\n",
    "\n",
    "for s in sims:\n",
    "    data = df.loc[df['sim'] == s, ['x', 'y']].to_numpy()\n",
    "    X = data[:,0]\n",
    "    Y = data[:,1]\n",
    "    results = pd.DataFrame(seq_kern_independence(X, Y, 'aGRAPA', n0,),\n",
    "                           columns = ['martingale'])\n",
    "    results['sim'] = s\n",
    "    out.append(results)\n",
    "\n",
    "out = pd.concat(out)\n",
    "out.reset_index(inplace = True, drop = True)\n",
    "out_path = 'simulations_' + lmbd_type + '_' + str(n0) + '_' + task_id + '.feather'\n",
    "ft.write_dataframe(out, out_path)"
   ]
  },
  {
   "cell_type": "code",
   "execution_count": null,
   "metadata": {},
   "outputs": [],
   "source": []
  }
 ],
 "metadata": {
  "kernelspec": {
   "display_name": "Python 3 (ipykernel)",
   "language": "python",
   "name": "python3"
  },
  "language_info": {
   "codemirror_mode": {
    "name": "ipython",
    "version": 3
   },
   "file_extension": ".py",
   "mimetype": "text/x-python",
   "name": "python",
   "nbconvert_exporter": "python",
   "pygments_lexer": "ipython3",
   "version": "3.10.6"
  },
  "vscode": {
   "interpreter": {
    "hash": "aee8b7b246df8f9039afb4144a1f6fd8d2ca17a180786b69acc140d282b71a49"
   }
  }
 },
 "nbformat": 4,
 "nbformat_minor": 2
}
